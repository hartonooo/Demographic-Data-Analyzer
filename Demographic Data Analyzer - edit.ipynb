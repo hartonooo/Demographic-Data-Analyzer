{
 "cells": [
  {
   "cell_type": "code",
   "execution_count": 1,
   "id": "3d1acf9f",
   "metadata": {},
   "outputs": [],
   "source": [
    "import pandas as pd"
   ]
  },
  {
   "cell_type": "code",
   "execution_count": 2,
   "id": "f829e390",
   "metadata": {},
   "outputs": [
    {
     "data": {
      "text/html": [
       "<div>\n",
       "<style scoped>\n",
       "    .dataframe tbody tr th:only-of-type {\n",
       "        vertical-align: middle;\n",
       "    }\n",
       "\n",
       "    .dataframe tbody tr th {\n",
       "        vertical-align: top;\n",
       "    }\n",
       "\n",
       "    .dataframe thead th {\n",
       "        text-align: right;\n",
       "    }\n",
       "</style>\n",
       "<table border=\"1\" class=\"dataframe\">\n",
       "  <thead>\n",
       "    <tr style=\"text-align: right;\">\n",
       "      <th></th>\n",
       "      <th>age</th>\n",
       "      <th>workclass</th>\n",
       "      <th>fnlwgt</th>\n",
       "      <th>education</th>\n",
       "      <th>education-num</th>\n",
       "      <th>marital-status</th>\n",
       "      <th>occupation</th>\n",
       "      <th>relationship</th>\n",
       "      <th>race</th>\n",
       "      <th>sex</th>\n",
       "      <th>capital-gain</th>\n",
       "      <th>capital-loss</th>\n",
       "      <th>hours-per-week</th>\n",
       "      <th>native-country</th>\n",
       "      <th>salary</th>\n",
       "    </tr>\n",
       "  </thead>\n",
       "  <tbody>\n",
       "    <tr>\n",
       "      <th>0</th>\n",
       "      <td>39</td>\n",
       "      <td>State-gov</td>\n",
       "      <td>77516</td>\n",
       "      <td>Bachelors</td>\n",
       "      <td>13</td>\n",
       "      <td>Never-married</td>\n",
       "      <td>Adm-clerical</td>\n",
       "      <td>Not-in-family</td>\n",
       "      <td>White</td>\n",
       "      <td>Male</td>\n",
       "      <td>2174</td>\n",
       "      <td>0</td>\n",
       "      <td>40</td>\n",
       "      <td>United-States</td>\n",
       "      <td>&lt;=50K</td>\n",
       "    </tr>\n",
       "    <tr>\n",
       "      <th>1</th>\n",
       "      <td>50</td>\n",
       "      <td>Self-emp-not-inc</td>\n",
       "      <td>83311</td>\n",
       "      <td>Bachelors</td>\n",
       "      <td>13</td>\n",
       "      <td>Married-civ-spouse</td>\n",
       "      <td>Exec-managerial</td>\n",
       "      <td>Husband</td>\n",
       "      <td>White</td>\n",
       "      <td>Male</td>\n",
       "      <td>0</td>\n",
       "      <td>0</td>\n",
       "      <td>13</td>\n",
       "      <td>United-States</td>\n",
       "      <td>&lt;=50K</td>\n",
       "    </tr>\n",
       "    <tr>\n",
       "      <th>2</th>\n",
       "      <td>38</td>\n",
       "      <td>Private</td>\n",
       "      <td>215646</td>\n",
       "      <td>HS-grad</td>\n",
       "      <td>9</td>\n",
       "      <td>Divorced</td>\n",
       "      <td>Handlers-cleaners</td>\n",
       "      <td>Not-in-family</td>\n",
       "      <td>White</td>\n",
       "      <td>Male</td>\n",
       "      <td>0</td>\n",
       "      <td>0</td>\n",
       "      <td>40</td>\n",
       "      <td>United-States</td>\n",
       "      <td>&lt;=50K</td>\n",
       "    </tr>\n",
       "    <tr>\n",
       "      <th>3</th>\n",
       "      <td>53</td>\n",
       "      <td>Private</td>\n",
       "      <td>234721</td>\n",
       "      <td>11th</td>\n",
       "      <td>7</td>\n",
       "      <td>Married-civ-spouse</td>\n",
       "      <td>Handlers-cleaners</td>\n",
       "      <td>Husband</td>\n",
       "      <td>Black</td>\n",
       "      <td>Male</td>\n",
       "      <td>0</td>\n",
       "      <td>0</td>\n",
       "      <td>40</td>\n",
       "      <td>United-States</td>\n",
       "      <td>&lt;=50K</td>\n",
       "    </tr>\n",
       "    <tr>\n",
       "      <th>4</th>\n",
       "      <td>28</td>\n",
       "      <td>Private</td>\n",
       "      <td>338409</td>\n",
       "      <td>Bachelors</td>\n",
       "      <td>13</td>\n",
       "      <td>Married-civ-spouse</td>\n",
       "      <td>Prof-specialty</td>\n",
       "      <td>Wife</td>\n",
       "      <td>Black</td>\n",
       "      <td>Female</td>\n",
       "      <td>0</td>\n",
       "      <td>0</td>\n",
       "      <td>40</td>\n",
       "      <td>Cuba</td>\n",
       "      <td>&lt;=50K</td>\n",
       "    </tr>\n",
       "  </tbody>\n",
       "</table>\n",
       "</div>"
      ],
      "text/plain": [
       "   age         workclass  fnlwgt  education  education-num  \\\n",
       "0   39         State-gov   77516  Bachelors             13   \n",
       "1   50  Self-emp-not-inc   83311  Bachelors             13   \n",
       "2   38           Private  215646    HS-grad              9   \n",
       "3   53           Private  234721       11th              7   \n",
       "4   28           Private  338409  Bachelors             13   \n",
       "\n",
       "       marital-status         occupation   relationship   race     sex  \\\n",
       "0       Never-married       Adm-clerical  Not-in-family  White    Male   \n",
       "1  Married-civ-spouse    Exec-managerial        Husband  White    Male   \n",
       "2            Divorced  Handlers-cleaners  Not-in-family  White    Male   \n",
       "3  Married-civ-spouse  Handlers-cleaners        Husband  Black    Male   \n",
       "4  Married-civ-spouse     Prof-specialty           Wife  Black  Female   \n",
       "\n",
       "   capital-gain  capital-loss  hours-per-week native-country salary  \n",
       "0          2174             0              40  United-States  <=50K  \n",
       "1             0             0              13  United-States  <=50K  \n",
       "2             0             0              40  United-States  <=50K  \n",
       "3             0             0              40  United-States  <=50K  \n",
       "4             0             0              40           Cuba  <=50K  "
      ]
     },
     "execution_count": 2,
     "metadata": {},
     "output_type": "execute_result"
    }
   ],
   "source": [
    "df = pd.read_csv(\"adult.data.csv\")\n",
    "df.head()"
   ]
  },
  {
   "cell_type": "code",
   "execution_count": 3,
   "id": "05755e17",
   "metadata": {},
   "outputs": [
    {
     "name": "stdout",
     "output_type": "stream",
     "text": [
      "<class 'pandas.core.frame.DataFrame'>\n",
      "RangeIndex: 32561 entries, 0 to 32560\n",
      "Data columns (total 15 columns):\n",
      " #   Column          Non-Null Count  Dtype \n",
      "---  ------          --------------  ----- \n",
      " 0   age             32561 non-null  int64 \n",
      " 1   workclass       32561 non-null  object\n",
      " 2   fnlwgt          32561 non-null  int64 \n",
      " 3   education       32561 non-null  object\n",
      " 4   education-num   32561 non-null  int64 \n",
      " 5   marital-status  32561 non-null  object\n",
      " 6   occupation      32561 non-null  object\n",
      " 7   relationship    32561 non-null  object\n",
      " 8   race            32561 non-null  object\n",
      " 9   sex             32561 non-null  object\n",
      " 10  capital-gain    32561 non-null  int64 \n",
      " 11  capital-loss    32561 non-null  int64 \n",
      " 12  hours-per-week  32561 non-null  int64 \n",
      " 13  native-country  32561 non-null  object\n",
      " 14  salary          32561 non-null  object\n",
      "dtypes: int64(6), object(9)\n",
      "memory usage: 3.7+ MB\n"
     ]
    }
   ],
   "source": [
    "df.info()\n",
    "\n",
    "# clear, everything's non-null"
   ]
  },
  {
   "cell_type": "markdown",
   "id": "32f77241",
   "metadata": {},
   "source": [
    "1. How many people of each race are represented in this dataset? This should be a Pandas series with race names as the index labels. (race column)"
   ]
  },
  {
   "cell_type": "code",
   "execution_count": 4,
   "id": "08702d9e",
   "metadata": {},
   "outputs": [
    {
     "data": {
      "text/plain": [
       "White                 27816\n",
       "Black                  3124\n",
       "Asian-Pac-Islander     1039\n",
       "Amer-Indian-Eskimo      311\n",
       "Other                   271\n",
       "Name: race, dtype: int64"
      ]
     },
     "execution_count": 4,
     "metadata": {},
     "output_type": "execute_result"
    }
   ],
   "source": [
    "df[\"race\"].value_counts()"
   ]
  },
  {
   "cell_type": "markdown",
   "id": "5824e0c7",
   "metadata": {},
   "source": [
    "2. What is the average age of men?"
   ]
  },
  {
   "cell_type": "code",
   "execution_count": 5,
   "id": "66ec72d9",
   "metadata": {},
   "outputs": [
    {
     "data": {
      "text/plain": [
       "sex\n",
       "Female    36.858230\n",
       "Male      39.433547\n",
       "Name: age, dtype: float64"
      ]
     },
     "execution_count": 5,
     "metadata": {},
     "output_type": "execute_result"
    }
   ],
   "source": [
    "df.groupby([\"sex\"])[\"age\"].mean()\n"
   ]
  },
  {
   "cell_type": "code",
   "execution_count": 6,
   "id": "093f8e14",
   "metadata": {},
   "outputs": [
    {
     "data": {
      "text/plain": [
       "39.4"
      ]
     },
     "execution_count": 6,
     "metadata": {},
     "output_type": "execute_result"
    }
   ],
   "source": [
    "# df[df[\"sex\"]==\"Male\"][\"age\"].mean()\n",
    "\n",
    "round(df[df[\"sex\"]==\"Male\"][\"age\"].mean(), 1)"
   ]
  },
  {
   "cell_type": "markdown",
   "id": "8899a885",
   "metadata": {},
   "source": [
    "3. What is the percentage of people who have a Bachelor's degree?"
   ]
  },
  {
   "cell_type": "code",
   "execution_count": 7,
   "id": "43934eb1",
   "metadata": {},
   "outputs": [
    {
     "data": {
      "text/plain": [
       "32561"
      ]
     },
     "execution_count": 7,
     "metadata": {},
     "output_type": "execute_result"
    }
   ],
   "source": [
    "df[\"education\"].count()"
   ]
  },
  {
   "cell_type": "code",
   "execution_count": 8,
   "id": "9f4fbbb1",
   "metadata": {},
   "outputs": [
    {
     "data": {
      "text/plain": [
       "5355"
      ]
     },
     "execution_count": 8,
     "metadata": {},
     "output_type": "execute_result"
    }
   ],
   "source": [
    "df[df[\"education\"]==\"Bachelors\"][\"education\"].count()"
   ]
  },
  {
   "cell_type": "code",
   "execution_count": 9,
   "id": "3afe0142",
   "metadata": {},
   "outputs": [
    {
     "data": {
      "text/plain": [
       "16.4"
      ]
     },
     "execution_count": 9,
     "metadata": {},
     "output_type": "execute_result"
    }
   ],
   "source": [
    "# pct_Bachelors = (df[df[\"education\"]==\"Bachelors\"][\"education\"].count() / df[\"education\"].count()) * 100\n",
    "\n",
    "pct_Bachelors = round((df[df[\"education\"]==\"Bachelors\"][\"education\"].count() / df[\"education\"].count()) * \n",
    "                      100, 1)\n",
    "pct_Bachelors"
   ]
  },
  {
   "cell_type": "markdown",
   "id": "c1d553e8",
   "metadata": {},
   "source": [
    "4. What percentage of people with advanced education (Bachelors, Masters, or Doctorate) make more than 50K?"
   ]
  },
  {
   "cell_type": "code",
   "execution_count": 10,
   "id": "0eff746f",
   "metadata": {},
   "outputs": [
    {
     "data": {
      "text/plain": [
       "<=50K    4005\n",
       ">50K     3486\n",
       "Name: salary, dtype: int64"
      ]
     },
     "execution_count": 10,
     "metadata": {},
     "output_type": "execute_result"
    }
   ],
   "source": [
    "df[(df[\"education\"] == \"Bachelors\") | (df[\"education\"] == \"Masters\") | (df[\"education\"] == \"Doctorate\")][\"salary\"].value_counts()"
   ]
  },
  {
   "cell_type": "code",
   "execution_count": 11,
   "id": "aa1082c1",
   "metadata": {},
   "outputs": [
    {
     "data": {
      "text/plain": [
       ">50K    3486\n",
       "Name: salary, dtype: int64"
      ]
     },
     "execution_count": 11,
     "metadata": {},
     "output_type": "execute_result"
    }
   ],
   "source": [
    "# variasi 1\n",
    "df[(df[\"education\"] == \"Bachelors\") & (df[\"salary\"] == \">50K\") | (df[\"education\"] == \"Masters\") & (df[\"salary\"] == \">50K\") | (df[\"education\"] == \"Doctorate\") & (df[\"salary\"] == \">50K\")][\"salary\"].value_counts()"
   ]
  },
  {
   "cell_type": "code",
   "execution_count": 12,
   "id": "726b502e",
   "metadata": {},
   "outputs": [
    {
     "data": {
      "text/plain": [
       ">50K    3486\n",
       "Name: salary, dtype: int64"
      ]
     },
     "execution_count": 12,
     "metadata": {},
     "output_type": "execute_result"
    }
   ],
   "source": [
    "# variasi 2\n",
    "df[((df[\"education\"] == \"Bachelors\") | (df[\"education\"] == \"Masters\") | (df[\"education\"] == \"Doctorate\")) & (df[\"salary\"] == \">50K\")][\"salary\"].value_counts()"
   ]
  },
  {
   "cell_type": "code",
   "execution_count": 13,
   "id": "799aefce",
   "metadata": {},
   "outputs": [
    {
     "data": {
      "text/plain": [
       "7491"
      ]
     },
     "execution_count": 13,
     "metadata": {},
     "output_type": "execute_result"
    }
   ],
   "source": [
    "df[(df[\"education\"] == \"Bachelors\") | (df[\"education\"] == \"Masters\") | (df[\"education\"] == \"Doctorate\")][\"education\"].count()"
   ]
  },
  {
   "cell_type": "code",
   "execution_count": 14,
   "id": "4f52fb87",
   "metadata": {},
   "outputs": [
    {
     "data": {
      "text/plain": [
       "25070"
      ]
     },
     "execution_count": 14,
     "metadata": {},
     "output_type": "execute_result"
    }
   ],
   "source": [
    "# people with lower education\n",
    "adv_edu = [\"Bachelors\", \"Masters\", \"Doctorate\"]\n",
    "\n",
    "# df[~df[\"education\"].isin(adv_edu)][\"education\"].value_counts()\n",
    "df[~df[\"education\"].isin(adv_edu)][\"education\"].count()"
   ]
  },
  {
   "cell_type": "code",
   "execution_count": 15,
   "id": "09ef1583",
   "metadata": {},
   "outputs": [
    {
     "data": {
      "text/plain": [
       "7491"
      ]
     },
     "execution_count": 15,
     "metadata": {},
     "output_type": "execute_result"
    }
   ],
   "source": [
    "# people with higher education\n",
    "adv_edu = [\"Bachelors\", \"Masters\", \"Doctorate\"]\n",
    "\n",
    "# df[~df[\"education\"].isin(adv_edu)][\"education\"].value_counts()\n",
    "df[df[\"education\"].isin(adv_edu)][\"education\"].count()"
   ]
  },
  {
   "cell_type": "markdown",
   "id": "3d50c5a1",
   "metadata": {},
   "source": [
    "4.1 compared to general population:"
   ]
  },
  {
   "cell_type": "code",
   "execution_count": 16,
   "id": "70853cf7",
   "metadata": {},
   "outputs": [
    {
     "data": {
      "text/plain": [
       "32561"
      ]
     },
     "execution_count": 16,
     "metadata": {},
     "output_type": "execute_result"
    }
   ],
   "source": [
    "df[\"education\"].count()"
   ]
  },
  {
   "cell_type": "code",
   "execution_count": 17,
   "id": "4849a6f1",
   "metadata": {},
   "outputs": [
    {
     "data": {
      "text/plain": [
       ">50K    10.706059\n",
       "Name: salary, dtype: float64"
      ]
     },
     "execution_count": 17,
     "metadata": {},
     "output_type": "execute_result"
    }
   ],
   "source": [
    "pct_advEdu_generalPop = (df[((df[\"education\"] == \"Bachelors\") | \n",
    "                 (df[\"education\"] == \"Masters\") | \n",
    "                 (df[\"education\"] == \"Doctorate\")) & \n",
    "                (df[\"salary\"] == \">50K\")][\"salary\"].value_counts() /\n",
    "                df[\"education\"].count()) * 100\n",
    "\n",
    "pct_advEdu_generalPop"
   ]
  },
  {
   "cell_type": "code",
   "execution_count": 18,
   "id": "a0013648",
   "metadata": {},
   "outputs": [
    {
     "data": {
      "text/plain": [
       ">50K    17.259912\n",
       "Name: salary, dtype: float64"
      ]
     },
     "execution_count": 18,
     "metadata": {},
     "output_type": "execute_result"
    }
   ],
   "source": [
    "pct_lowEdu_generalPop = (df[(~(df[\"education\"] == \"Bachelors\") | \n",
    "                 (df[\"education\"] == \"Masters\") | \n",
    "                 (df[\"education\"] == \"Doctorate\")) & \n",
    "                (df[\"salary\"] == \">50K\")][\"salary\"].value_counts() /\n",
    "                df[\"education\"].count()) * 100\n",
    "\n",
    "pct_lowEdu_generalPop"
   ]
  },
  {
   "cell_type": "code",
   "execution_count": 19,
   "id": "7e7cf060",
   "metadata": {},
   "outputs": [
    {
     "data": {
      "text/plain": [
       "7841"
      ]
     },
     "execution_count": 19,
     "metadata": {},
     "output_type": "execute_result"
    }
   ],
   "source": [
    "df[df[\"salary\"] == \">50K\"][\"salary\"].count()"
   ]
  },
  {
   "cell_type": "code",
   "execution_count": 20,
   "id": "636aa72c",
   "metadata": {},
   "outputs": [
    {
     "data": {
      "text/plain": [
       "5620"
      ]
     },
     "execution_count": 20,
     "metadata": {},
     "output_type": "execute_result"
    }
   ],
   "source": [
    "df[(~(df[\"education\"] == \"Bachelors\") | \n",
    "    (df[\"education\"] == \"Masters\") |\n",
    "    (df[\"education\"] == \"Doctorate\")) &\n",
    "   (df[\"salary\"] == \">50K\")][\"salary\"].count()"
   ]
  },
  {
   "cell_type": "code",
   "execution_count": 21,
   "id": "bdd1cf90",
   "metadata": {},
   "outputs": [
    {
     "data": {
      "text/plain": [
       "17.4"
      ]
     },
     "execution_count": 21,
     "metadata": {},
     "output_type": "execute_result"
    }
   ],
   "source": [
    "adv_edu = [\"Bachelors\", \"Masters\", \"Doctorate\"]\n",
    "\n",
    "round(df[(~df[\"education\"].isin(adv_edu)) & (df[\"salary\"] == \">50K\")][\"salary\"].count() / df[(~df[\"education\"].isin(adv_edu))][\"salary\"].count() * 100, 1)"
   ]
  },
  {
   "cell_type": "code",
   "execution_count": 22,
   "id": "8237bc26",
   "metadata": {},
   "outputs": [
    {
     "data": {
      "text/plain": [
       "25070"
      ]
     },
     "execution_count": 22,
     "metadata": {},
     "output_type": "execute_result"
    }
   ],
   "source": [
    "df[(~df[\"education\"].isin(adv_edu))][\"salary\"].count()"
   ]
  },
  {
   "cell_type": "markdown",
   "id": "e53fc614",
   "metadata": {},
   "source": [
    "4.2 compared to inside advanced education population"
   ]
  },
  {
   "cell_type": "code",
   "execution_count": 23,
   "id": "0f06b692",
   "metadata": {},
   "outputs": [
    {
     "data": {
      "text/plain": [
       "46.5"
      ]
     },
     "execution_count": 23,
     "metadata": {},
     "output_type": "execute_result"
    }
   ],
   "source": [
    "# pick this one\n",
    "\n",
    "# pct_advEdu_inside = (df[((df[\"education\"] == \"Bachelors\") | \n",
    "#                  (df[\"education\"] == \"Masters\") | \n",
    "#                  (df[\"education\"] == \"Doctorate\")) & \n",
    "#                 (df[\"salary\"] == \">50K\")][\"salary\"].value_counts() /\n",
    "#                 df[(df[\"education\"] == \"Bachelors\") | \n",
    "#                    (df[\"education\"] == \"Masters\") | \n",
    "#                    (df[\"education\"] == \"Doctorate\")][\"salary\"].count()) * 100\n",
    "\n",
    "\n",
    "# this one returns category & percentage\n",
    "pct_advEdu_inside = round((df[((df[\"education\"] == \"Bachelors\") | \n",
    "                 (df[\"education\"] == \"Masters\") | \n",
    "                 (df[\"education\"] == \"Doctorate\")) & \n",
    "                (df[\"salary\"] == \">50K\")][\"salary\"].value_counts() /\n",
    "                df[(df[\"education\"] == \"Bachelors\") | \n",
    "                   (df[\"education\"] == \"Masters\") | \n",
    "                   (df[\"education\"] == \"Doctorate\")][\"salary\"].count()) * 100, 1)\n",
    "\n",
    "\n",
    "# pick this one, for percentage only\n",
    "pct_advEdu_inside = round((df[((df[\"education\"] == \"Bachelors\") | \n",
    "                 (df[\"education\"] == \"Masters\") | \n",
    "                 (df[\"education\"] == \"Doctorate\")) & \n",
    "                (df[\"salary\"] == \">50K\")][\"salary\"].value_counts() /\n",
    "                df[(df[\"education\"] == \"Bachelors\") | \n",
    "                   (df[\"education\"] == \"Masters\") | \n",
    "                   (df[\"education\"] == \"Doctorate\")][\"salary\"].count()) * 100, 1)[0]\n",
    "\n",
    "pct_advEdu_inside"
   ]
  },
  {
   "cell_type": "markdown",
   "id": "99b49228",
   "metadata": {},
   "source": [
    "5. What percentage of people without advanced education make more than 50K?"
   ]
  },
  {
   "cell_type": "markdown",
   "id": "1a019d8d",
   "metadata": {},
   "source": [
    "compared to general population"
   ]
  },
  {
   "cell_type": "code",
   "execution_count": 24,
   "id": "2ccbf317",
   "metadata": {},
   "outputs": [
    {
     "data": {
      "text/plain": [
       "<=50K    20715\n",
       ">50K      4355\n",
       "Name: salary, dtype: int64"
      ]
     },
     "execution_count": 24,
     "metadata": {},
     "output_type": "execute_result"
    }
   ],
   "source": [
    "adv_edu = [\"Bachelors\", \"Masters\", \"Doctorate\"]\n",
    "\n",
    "df[~df[\"education\"].isin(adv_edu)][\"salary\"].value_counts()"
   ]
  },
  {
   "cell_type": "code",
   "execution_count": 25,
   "id": "cf1eb2c4",
   "metadata": {},
   "outputs": [
    {
     "data": {
      "text/plain": [
       "4355"
      ]
     },
     "execution_count": 25,
     "metadata": {},
     "output_type": "execute_result"
    }
   ],
   "source": [
    "df[(~df[\"education\"].isin(adv_edu)) & (df[\"salary\"] == \">50K\")][\"salary\"].count()"
   ]
  },
  {
   "cell_type": "code",
   "execution_count": 26,
   "id": "1d2cb947",
   "metadata": {},
   "outputs": [
    {
     "data": {
      "text/plain": [
       "13.4"
      ]
     },
     "execution_count": 26,
     "metadata": {},
     "output_type": "execute_result"
    }
   ],
   "source": [
    "# pct_without_advEdu_salaryMoreThan50K = (df[(~df[\"education\"].isin(adv_edu)) & (df[\"salary\"] == \">50K\")][\"salary\"].count()/\n",
    "# df[\"education\"].count()) * 100\n",
    "\n",
    "pct_without_advEdu_salaryMoreThan50K = round((df[(~df[\"education\"].isin(adv_edu)) & (df[\"salary\"] == \">50K\")][\"salary\"].count()/\n",
    "df[\"education\"].count()) * 100, 1)\n",
    "\n",
    "pct_without_advEdu_salaryMoreThan50K"
   ]
  },
  {
   "cell_type": "code",
   "execution_count": 27,
   "id": "e2e1880e",
   "metadata": {},
   "outputs": [
    {
     "data": {
      "text/plain": [
       "education     salary\n",
       "10th          <=50K      871\n",
       "              >50K        62\n",
       "11th          <=50K     1115\n",
       "              >50K        60\n",
       "12th          <=50K      400\n",
       "              >50K        33\n",
       "1st-4th       <=50K      162\n",
       "              >50K         6\n",
       "5th-6th       <=50K      317\n",
       "              >50K        16\n",
       "7th-8th       <=50K      606\n",
       "              >50K        40\n",
       "9th           <=50K      487\n",
       "              >50K        27\n",
       "Assoc-acdm    <=50K      802\n",
       "              >50K       265\n",
       "Assoc-voc     <=50K     1021\n",
       "              >50K       361\n",
       "HS-grad       <=50K     8826\n",
       "              >50K      1675\n",
       "Masters       <=50K      764\n",
       "              >50K       959\n",
       "Preschool     <=50K       51\n",
       "Prof-school   <=50K      153\n",
       "              >50K       423\n",
       "Some-college  <=50K     5904\n",
       "              >50K      1387\n",
       "Name: salary, dtype: int64"
      ]
     },
     "execution_count": 27,
     "metadata": {},
     "output_type": "execute_result"
    }
   ],
   "source": [
    "df[~df[\"education\"].isin([\"Bachelors\", \"Msters\", \"Doctorate\"])].groupby([\"education\", \"salary\"])[\"salary\"].count()"
   ]
  },
  {
   "cell_type": "markdown",
   "id": "6c2dcf8c",
   "metadata": {},
   "source": [
    "6. What is the minimum number of hours a person works per week?"
   ]
  },
  {
   "cell_type": "code",
   "execution_count": 28,
   "id": "ba0b20ed",
   "metadata": {},
   "outputs": [
    {
     "data": {
      "text/plain": [
       "1"
      ]
     },
     "execution_count": 28,
     "metadata": {},
     "output_type": "execute_result"
    }
   ],
   "source": [
    "df[\"hours-per-week\"].min()\n",
    "\n",
    "# df[df[\"hours-per-week\"] == df[\"hours-per-week\"].min()]"
   ]
  },
  {
   "cell_type": "markdown",
   "id": "2e0b6f5e",
   "metadata": {},
   "source": [
    "7. What percentage of the people who work the minimum number of hours per week have a salary of more than 50K?"
   ]
  },
  {
   "cell_type": "code",
   "execution_count": 29,
   "id": "eb1ebdbe",
   "metadata": {},
   "outputs": [
    {
     "data": {
      "text/plain": [
       "<=50K    18\n",
       ">50K      2\n",
       "Name: salary, dtype: int64"
      ]
     },
     "execution_count": 29,
     "metadata": {},
     "output_type": "execute_result"
    }
   ],
   "source": [
    "df[df[\"hours-per-week\"] == df[\"hours-per-week\"].min()][\"salary\"].value_counts()"
   ]
  },
  {
   "cell_type": "code",
   "execution_count": 30,
   "id": "a151413f",
   "metadata": {},
   "outputs": [
    {
     "data": {
      "text/plain": [
       "2"
      ]
     },
     "execution_count": 30,
     "metadata": {},
     "output_type": "execute_result"
    }
   ],
   "source": [
    "df[(df[\"hours-per-week\"] == df[\"hours-per-week\"].min()) & (df[\"salary\"] == \">50K\")][\"salary\"].count()"
   ]
  },
  {
   "cell_type": "code",
   "execution_count": 31,
   "id": "f8930337",
   "metadata": {},
   "outputs": [
    {
     "data": {
      "text/plain": [
       "10.0"
      ]
     },
     "execution_count": 31,
     "metadata": {},
     "output_type": "execute_result"
    }
   ],
   "source": [
    "pct_minWorkHours_salMoreThan50K = (df[(df[\"hours-per-week\"] == df[\"hours-per-week\"].min()) & (df[\"salary\"] == \">50K\")][\"salary\"].count()/\n",
    "df[df[\"hours-per-week\"] == df[\"hours-per-week\"].min()][\"salary\"].count()) * 100\n",
    "\n",
    "pct_minWorkHours_salMoreThan50K"
   ]
  },
  {
   "cell_type": "markdown",
   "id": "973ad31d",
   "metadata": {},
   "source": [
    "8. What country has the highest percentage of people that earn >50K and what is that percentage?"
   ]
  },
  {
   "cell_type": "code",
   "execution_count": 32,
   "id": "7e0c0d26",
   "metadata": {},
   "outputs": [
    {
     "data": {
      "text/plain": [
       "array(['United-States', 'India', '?', 'South', 'Honduras', 'Canada',\n",
       "       'Iran', 'Mexico', 'Cambodia', 'Thailand', 'Taiwan', 'Portugal',\n",
       "       'England', 'China', 'Philippines', 'Jamaica', 'Germany', 'Japan',\n",
       "       'Italy', 'Dominican-Republic', 'Cuba', 'Greece', 'Peru',\n",
       "       'Guatemala', 'El-Salvador', 'France', 'Vietnam', 'Poland',\n",
       "       'Puerto-Rico', 'Ireland', 'Yugoslavia', 'Columbia', 'Haiti',\n",
       "       'Hong', 'Ecuador', 'Nicaragua', 'Trinadad&Tobago', 'Hungary',\n",
       "       'Scotland', 'Laos'], dtype=object)"
      ]
     },
     "execution_count": 32,
     "metadata": {},
     "output_type": "execute_result"
    }
   ],
   "source": [
    "df[df[\"salary\"] == \">50K\"][\"native-country\"].unique()"
   ]
  },
  {
   "cell_type": "code",
   "execution_count": 33,
   "id": "87779db1",
   "metadata": {},
   "outputs": [
    {
     "data": {
      "text/plain": [
       "29170"
      ]
     },
     "execution_count": 33,
     "metadata": {},
     "output_type": "execute_result"
    }
   ],
   "source": [
    "df[df[\"native-country\"] == \"United-States\"][\"salary\"].count()"
   ]
  },
  {
   "cell_type": "code",
   "execution_count": 34,
   "id": "429ad692",
   "metadata": {},
   "outputs": [
    {
     "name": "stdout",
     "output_type": "stream",
     "text": [
      "['United-States', 'India', '?', 'South', 'Honduras', 'Canada', 'Iran', 'Mexico', 'Cambodia', 'Thailand', 'Taiwan', 'Portugal', 'England', 'China', 'Philippines', 'Jamaica', 'Germany', 'Japan', 'Italy', 'Dominican-Republic', 'Cuba', 'Greece', 'Peru', 'Guatemala', 'El-Salvador', 'France', 'Vietnam', 'Poland', 'Puerto-Rico', 'Ireland', 'Yugoslavia', 'Columbia', 'Haiti', 'Hong', 'Ecuador', 'Nicaragua', 'Trinadad&Tobago', 'Hungary', 'Scotland', 'Laos']\n"
     ]
    }
   ],
   "source": [
    "country = []\n",
    "for i in df[df[\"salary\"] == \">50K\"][\"native-country\"].unique():\n",
    "    country.append(i)\n",
    "    \n",
    "print(country)    "
   ]
  },
  {
   "cell_type": "code",
   "execution_count": 35,
   "id": "ce43fb1e",
   "metadata": {},
   "outputs": [
    {
     "data": {
      "text/plain": [
       "32561"
      ]
     },
     "execution_count": 35,
     "metadata": {},
     "output_type": "execute_result"
    }
   ],
   "source": [
    "df[\"native-country\"].count()"
   ]
  },
  {
   "cell_type": "code",
   "execution_count": 36,
   "id": "b6589608",
   "metadata": {},
   "outputs": [
    {
     "data": {
      "text/plain": [
       "41.9"
      ]
     },
     "execution_count": 36,
     "metadata": {},
     "output_type": "execute_result"
    }
   ],
   "source": [
    "container = {}\n",
    "\n",
    "for i in country:\n",
    "    container[i] = [df[(df[\"salary\"] == \">50K\") & (df[\"native-country\"] == i)][\"salary\"].count(), \n",
    "                    df[df[\"native-country\"] == i][\"salary\"].count(), df[(df[\"salary\"] == \">50K\") & (df[\"native-country\"] == i)][\"salary\"].count()/df[df[\"native-country\"] == i][\"salary\"].count() * 100]\n",
    "\n",
    "    \n",
    "# https://www.freecodecamp.org/news/sort-dictionary-by-value-in-python/    \n",
    "# return all countries, sorted by percentage\n",
    "# sorted(container.items(), \n",
    "#        key = lambda item:item[1][2],\n",
    "#       reverse = True)\n",
    "\n",
    "# pick iran \n",
    "# sorted(container.items(), \n",
    "#        key = lambda item:item[1][2],\n",
    "#       reverse = True)[0][0]\n",
    "\n",
    "# pick percentage\n",
    "round(sorted(container.items(), \n",
    "       key = lambda item:item[1][2],\n",
    "      reverse = True)[0][1][2], 1)\n",
    "\n",
    "# biggest percentage in Iran"
   ]
  },
  {
   "cell_type": "code",
   "execution_count": 37,
   "id": "dc90dd56",
   "metadata": {},
   "outputs": [
    {
     "data": {
      "text/plain": [
       "7171"
      ]
     },
     "execution_count": 37,
     "metadata": {},
     "output_type": "execute_result"
    }
   ],
   "source": [
    "df[(df[\"salary\"] == \">50K\") & (df[\"native-country\"] == \"United-States\")][\"salary\"].count()"
   ]
  },
  {
   "cell_type": "code",
   "execution_count": 38,
   "id": "85461488",
   "metadata": {},
   "outputs": [
    {
     "data": {
      "text/plain": [
       "29170"
      ]
     },
     "execution_count": 38,
     "metadata": {},
     "output_type": "execute_result"
    }
   ],
   "source": [
    "df[df[\"native-country\"] == \"United-States\"][\"salary\"].count()"
   ]
  },
  {
   "cell_type": "markdown",
   "id": "559b7216",
   "metadata": {},
   "source": [
    "9. Identify the most popular occupation for those who earn >50K in India."
   ]
  },
  {
   "cell_type": "code",
   "execution_count": 39,
   "id": "91d2e6ef",
   "metadata": {},
   "outputs": [
    {
     "data": {
      "text/plain": [
       "Prof-specialty      25\n",
       "Exec-managerial      8\n",
       "Other-service        2\n",
       "Tech-support         2\n",
       "Transport-moving     1\n",
       "Sales                1\n",
       "Adm-clerical         1\n",
       "Name: occupation, dtype: int64"
      ]
     },
     "execution_count": 39,
     "metadata": {},
     "output_type": "execute_result"
    }
   ],
   "source": [
    "df[(df[\"native-country\"] == \"India\") & (df[\"salary\"] == \">50K\")][\"occupation\"].value_counts()"
   ]
  },
  {
   "cell_type": "code",
   "execution_count": 40,
   "id": "5c77c871",
   "metadata": {},
   "outputs": [
    {
     "data": {
      "text/plain": [
       "'Prof-specialty'"
      ]
     },
     "execution_count": 40,
     "metadata": {},
     "output_type": "execute_result"
    }
   ],
   "source": [
    "df[(df[\"native-country\"] == \"India\") & (df[\"salary\"] == \">50K\")][\"occupation\"].value_counts().index[0]"
   ]
  },
  {
   "cell_type": "code",
   "execution_count": null,
   "id": "5b305b63",
   "metadata": {},
   "outputs": [],
   "source": []
  }
 ],
 "metadata": {
  "kernelspec": {
   "display_name": "Python 3 (ipykernel)",
   "language": "python",
   "name": "python3"
  },
  "language_info": {
   "codemirror_mode": {
    "name": "ipython",
    "version": 3
   },
   "file_extension": ".py",
   "mimetype": "text/x-python",
   "name": "python",
   "nbconvert_exporter": "python",
   "pygments_lexer": "ipython3",
   "version": "3.9.15"
  }
 },
 "nbformat": 4,
 "nbformat_minor": 5
}
